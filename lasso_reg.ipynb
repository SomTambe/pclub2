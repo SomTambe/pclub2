{
 "cells": [
  {
   "cell_type": "code",
   "execution_count": 1,
   "metadata": {},
   "outputs": [],
   "source": [
    "import numpy as np\n",
    "import matplotlib.pyplot as plt\n",
    "import pandas as pd"
   ]
  },
  {
   "cell_type": "code",
   "execution_count": 2,
   "metadata": {},
   "outputs": [
    {
     "data": {
      "image/png": "[encoded data removed]",
      "text/plain": [
       "<Figure size 432x288 with 1 Axes>"
      ]
     },
     "metadata": {
      "needs_background": "light"
     },
     "output_type": "display_data"
    },
    {
     "name": "stdout",
     "output_type": "stream",
     "text": [
      "[[1.  ]\n",
      " [1.25]]\n"
     ]
    }
   ],
   "source": [
    "x=np.arange(0,25,0.25)\n",
    "y=[]\n",
    "for i in x:\n",
    "    y.append(34*i+63+np.random.randint(0,20))\n",
    "x=np.reshape(x,(100,1))\n",
    "y=np.reshape(y,(100,1))\n",
    "plt.plot(x,y,'ro')\n",
    "plt.show()\n",
    "print((np.append(1,x[5]).reshape(2,1)))"
   ]
  },
  {
   "cell_type": "code",
   "execution_count": 3,
   "metadata": {},
   "outputs": [
    {
     "name": "stdout",
     "output_type": "stream",
     "text": [
      "100   1\n"
     ]
    }
   ],
   "source": [
    "size=np.size(x) # size of dataset\n",
    "features=np.size(x[1])\n",
    "print(size,' ',features)"
   ]
  },
  {
   "cell_type": "code",
   "execution_count": 86,
   "metadata": {},
   "outputs": [],
   "source": [
    "def learner(lamda, err): # lol no meaning of error here\n",
    "    converged=False\n",
    "    i=0\n",
    "    theta=np.random.randn(features+1,1)\n",
    "    h=lambda x: np.dot(theta.transpose(),x)\n",
    "    while not converged:\n",
    "        # we use lasso regression here\n",
    "        loss=0\n",
    "        suma=0\n",
    "        for n in range(0,size):\n",
    "            loss+=(h(np.append(1,x[n]).reshape(features+1,1))-y[n])**2/2\n",
    "        for n in range(0,features+1):# this wasnt really required\n",
    "            suma+=abs(theta[n])\n",
    "        # loss=loss+lamda*suma\n",
    "        s=lambda rho,z: (rho-abs(lamda)) if rho>abs(lamda) else 0 # outputs the s(rho,z) value\n",
    "        if i<size and loss>err:\n",
    "            for j in range(0,features+1):\n",
    "                rho=0\n",
    "                z=0\n",
    "                for k in range(0,size):\n",
    "                    xtemp=np.append(1,x[k])\n",
    "                    # print(xtemp)\n",
    "                    rho+=-xtemp[j]*(h(xtemp.reshape(features+1,1))-y[k]-theta[j]*xtemp[j])\n",
    "                    # print(k,j)\n",
    "                    z+=xtemp[j]**2\n",
    "                theta[j]=s(rho,z)/z # revising theta value, also z!=1 here since data not normalized\n",
    "            print('iteration:',i+1,' loss:',loss)\n",
    "            i+=1\n",
    "        else:\n",
    "            converged=True\n",
    "            print('converged. loss:',loss)\n",
    "    return theta"
   ]
  },
  {
   "cell_type": "code",
   "execution_count": 89,
   "metadata": {},
   "outputs": [
    {
     "name": "stdout",
     "output_type": "stream",
     "text": [
      "iteration: 1  loss: [[15409055.09803354]]\n",
      "iteration: 2  loss: [[2272877.35830203]]\n",
      "iteration: 3  loss: [[1251474.71946891]]\n",
      "iteration: 4  loss: [[686583.38097498]]\n",
      "iteration: 5  loss: [[374918.72724312]]\n",
      "iteration: 6  loss: [[203529.87155315]]\n",
      "iteration: 7  loss: [[109705.71479144]]\n",
      "iteration: 8  loss: [[58664.3195276]]\n",
      "iteration: 9  loss: [[31141.02602319]]\n",
      "iteration: 10  loss: [[16485.73758819]]\n",
      "iteration: 11  loss: [[8825.76862882]]\n",
      "iteration: 12  loss: [[4934.08450909]]\n",
      "iteration: 13  loss: [[3045.9386794]]\n",
      "iteration: 14  loss: [[2202.68836507]]\n",
      "iteration: 15  loss: [[1888.46884724]]\n",
      "iteration: 16  loss: [[1829.42200046]]\n",
      "iteration: 17  loss: [[1883.05149335]]\n",
      "iteration: 18  loss: [[1977.47240045]]\n",
      "iteration: 19  loss: [[2078.2259641]]\n",
      "iteration: 20  loss: [[2170.28081337]]\n",
      "iteration: 21  loss: [[2248.36892042]]\n",
      "iteration: 22  loss: [[2311.87180059]]\n",
      "iteration: 23  loss: [[2362.17262452]]\n",
      "iteration: 24  loss: [[2401.33080031]]\n",
      "iteration: 25  loss: [[2431.45515406]]\n",
      "iteration: 26  loss: [[2454.43789951]]\n",
      "iteration: 27  loss: [[2471.86844913]]\n",
      "iteration: 28  loss: [[2485.03165004]]\n",
      "iteration: 29  loss: [[2494.94130079]]\n",
      "iteration: 30  loss: [[2502.38455994]]\n",
      "iteration: 31  loss: [[2507.96588662]]\n",
      "iteration: 32  loss: [[2512.14584543]]\n",
      "iteration: 33  loss: [[2515.27341326]]\n",
      "iteration: 34  loss: [[2517.61195289]]\n",
      "iteration: 35  loss: [[2519.35963403]]\n",
      "iteration: 36  loss: [[2520.66525042]]\n",
      "iteration: 37  loss: [[2521.6403452]]\n",
      "iteration: 38  loss: [[2522.36843854]]\n",
      "iteration: 39  loss: [[2522.91201353]]\n",
      "iteration: 40  loss: [[2523.3177848]]\n",
      "iteration: 41  loss: [[2523.6206612]]\n",
      "iteration: 42  loss: [[2523.84672001]]\n",
      "iteration: 43  loss: [[2524.01543609]]\n",
      "iteration: 44  loss: [[2524.14135062]]\n",
      "iteration: 45  loss: [[2524.23531939]]\n",
      "iteration: 46  loss: [[2524.30544595]]\n",
      "iteration: 47  loss: [[2524.35777887]]\n",
      "iteration: 48  loss: [[2524.39683262]]\n",
      "iteration: 49  loss: [[2524.42597645]]\n",
      "iteration: 50  loss: [[2524.44772488]]\n",
      "iteration: 51  loss: [[2524.46395446]]\n",
      "iteration: 52  loss: [[2524.47606561]]\n",
      "iteration: 53  loss: [[2524.48510339]]\n",
      "iteration: 54  loss: [[2524.4918477]]\n",
      "iteration: 55  loss: [[2524.49688053]]\n",
      "iteration: 56  loss: [[2524.5006362]]\n",
      "iteration: 57  loss: [[2524.50343881]]\n",
      "iteration: 58  loss: [[2524.50553021]]\n",
      "iteration: 59  loss: [[2524.50709087]]\n",
      "iteration: 60  loss: [[2524.50825549]]\n",
      "iteration: 61  loss: [[2524.50912457]]\n",
      "iteration: 62  loss: [[2524.5097731]]\n",
      "iteration: 63  loss: [[2524.51025705]]\n",
      "iteration: 64  loss: [[2524.51061819]]\n",
      "iteration: 65  loss: [[2524.51088769]]\n",
      "iteration: 66  loss: [[2524.5110888]]\n",
      "iteration: 67  loss: [[2524.51123887]]\n",
      "iteration: 68  loss: [[2524.51135086]]\n",
      "iteration: 69  loss: [[2524.51143443]]\n",
      "iteration: 70  loss: [[2524.51149679]]\n",
      "iteration: 71  loss: [[2524.51154332]]\n",
      "iteration: 72  loss: [[2524.51157805]]\n",
      "iteration: 73  loss: [[2524.51160396]]\n",
      "iteration: 74  loss: [[2524.5116233]]\n",
      "iteration: 75  loss: [[2524.51163773]]\n",
      "iteration: 76  loss: [[2524.5116485]]\n",
      "iteration: 77  loss: [[2524.51165654]]\n",
      "iteration: 78  loss: [[2524.51166253]]\n",
      "iteration: 79  loss: [[2524.51166701]]\n",
      "iteration: 80  loss: [[2524.51167035]]\n",
      "iteration: 81  loss: [[2524.51167284]]\n",
      "iteration: 82  loss: [[2524.5116747]]\n",
      "iteration: 83  loss: [[2524.51167609]]\n",
      "iteration: 84  loss: [[2524.51167712]]\n",
      "iteration: 85  loss: [[2524.5116779]]\n",
      "iteration: 86  loss: [[2524.51167847]]\n",
      "iteration: 87  loss: [[2524.5116789]]\n",
      "iteration: 88  loss: [[2524.51167922]]\n",
      "iteration: 89  loss: [[2524.51167946]]\n",
      "iteration: 90  loss: [[2524.51167964]]\n",
      "iteration: 91  loss: [[2524.51167978]]\n",
      "iteration: 92  loss: [[2524.51167988]]\n",
      "iteration: 93  loss: [[2524.51167995]]\n",
      "iteration: 94  loss: [[2524.51168001]]\n",
      "iteration: 95  loss: [[2524.51168005]]\n",
      "iteration: 96  loss: [[2524.51168008]]\n",
      "iteration: 97  loss: [[2524.5116801]]\n",
      "iteration: 98  loss: [[2524.51168012]]\n",
      "iteration: 99  loss: [[2524.51168013]]\n",
      "iteration: 100  loss: [[2524.51168014]]\n",
      "converged. loss: [[2524.51168015]]\n"
     ]
    }
   ],
   "source": [
    "result=learner(2*10**(2),5)# converges perfectly at lambda=2e2"
   ]
  },
  {
   "cell_type": "code",
   "execution_count": 90,
   "metadata": {},
   "outputs": [
    {
     "name": "stdout",
     "output_type": "stream",
     "text": [
      "[[64.85009901]\n",
      " [34.39918392]]\n"
     ]
    },
    {
     "data": {
      "image/png": "[encoded data removed]",
      "text/plain": [
       "<Figure size 432x288 with 1 Axes>"
      ]
     },
     "metadata": {
      "needs_background": "light"
     },
     "output_type": "display_data"
    }
   ],
   "source": [
    "pred=[]\n",
    "for i in range(0,size):\n",
    "    pred.append(np.dot(result.transpose(),np.append(1,x[i]).reshape(features+1,1)))\n",
    "print(result)\n",
    "plt.plot(x,np.reshape(pred,(-1,1)))\n",
    "plt.plot(x,y,'ro')\n",
    "plt.show()"
   ]
  },
  {
   "cell_type": "code",
   "execution_count": null,
   "metadata": {},
   "outputs": [],
   "source": []
  }
 ],
 "metadata": {
  "kernelspec": {
   "display_name": "Python 3",
   "language": "python",
   "name": "python3"
  },
  "language_info": {
   "codemirror_mode": {
    "name": "ipython",
    "version": 3
   },
   "file_extension": ".py",
   "mimetype": "text/x-python",
   "name": "python",
   "nbconvert_exporter": "python",
   "pygments_lexer": "ipython3",
   "version": "3.7.4"
  }
 },
 "nbformat": 4,
 "nbformat_minor": 2
}
