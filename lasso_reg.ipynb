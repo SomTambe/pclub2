{
 "cells": [
  {
   "cell_type": "code",
   "execution_count": 1,
   "metadata": {},
   "outputs": [],
   "source": [
    "import numpy as np\n",
    "import matplotlib.pyplot as plt\n",
    "import pandas as pd"
   ]
  },
  {
   "cell_type": "code",
   "execution_count": 2,
   "metadata": {},
   "outputs": [
    {
     "data": {
      "image/png": "[encoded data removed]",
      "text/plain": [
       "<Figure size 432x288 with 1 Axes>"
      ]
     },
     "metadata": {
      "needs_background": "light"
     },
     "output_type": "display_data"
    },
    {
     "name": "stdout",
     "output_type": "stream",
     "text": [
      "[[1.  ]\n",
      " [1.25]]\n"
     ]
    }
   ],
   "source": [
    "x=np.arange(0,25,0.25)\n",
    "y=[]\n",
    "for i in x:\n",
    "    y.append(34*i+63+np.random.randint(0,20))\n",
    "x=np.reshape(x,(100,1))\n",
    "y=np.reshape(y,(100,1))\n",
    "plt.plot(x,y,'ro')\n",
    "plt.show()\n",
    "print((np.append(1,x[5]).reshape(2,1)))"
   ]
  },
  {
   "cell_type": "code",
   "execution_count": 3,
   "metadata": {},
   "outputs": [
    {
     "name": "stdout",
     "output_type": "stream",
     "text": [
      "100   1\n"
     ]
    }
   ],
   "source": [
    "size=np.size(x) # size of dataset\n",
    "features=np.size(x[1])\n",
    "print(size,' ',features)"
   ]
  },
  {
   "cell_type": "code",
   "execution_count": 24,
   "metadata": {},
   "outputs": [],
   "source": [
    "def learner(lamda, err):\n",
    "    converged=False\n",
    "    i=0\n",
    "    theta=np.random.randn(features+1,1)\n",
    "    h=lambda x: np.dot(theta.transpose(),x)\n",
    "    while not converged:\n",
    "        # we use lasso regression here\n",
    "        loss=0\n",
    "        suma=0\n",
    "        for n in range(0,size):\n",
    "            loss+=(h(np.append(1,x[n]).reshape(features+1,1))-y[n])**2/2\n",
    "        for n in range(0,features+1):\n",
    "            suma+=abs(theta[n])\n",
    "        loss=loss+lamda*suma\n",
    "        s=lambda rho,z: (rho-abs(lamda)) if rho>abs(lamda) else 0\n",
    "        if i<size and loss>err:\n",
    "            for j in range(0,features+1):\n",
    "                rho=0\n",
    "                z=0\n",
    "                for k in range(0,size):\n",
    "                    xtemp=np.append(1,x[k]).reshape(features+1,1)\n",
    "                    # print(xtemp)\n",
    "                    rho+=-x[k]*(h(xtemp)-y[k]-theta[j]*x[j])\n",
    "                    z+=x[k]**2\n",
    "                theta[j]=s(rho,z)/z\n",
    "            print('iteration:',i+1,' loss:',loss)\n",
    "            i+=1\n",
    "        else:\n",
    "            converged=True\n",
    "            print('converged. loss:',loss)\n",
    "    return theta"
   ]
  },
  {
   "cell_type": "code",
   "execution_count": 33,
   "metadata": {},
   "outputs": [
    {
     "name": "stdout",
     "output_type": "stream",
     "text": [
      "iteration: 1  loss: [[14887744.66001454]]\n",
      "iteration: 2  loss: [[16919.44601123]]\n",
      "iteration: 3  loss: [[12707207.82506982]]\n",
      "iteration: 4  loss: [[122766.87208131]]\n",
      "iteration: 5  loss: [[10939676.36643831]]\n",
      "iteration: 6  loss: [[334921.82265725]]\n",
      "iteration: 7  loss: [[9545772.03745949]]\n",
      "iteration: 8  loss: [[602467.28669234]]\n",
      "iteration: 9  loss: [[8439352.20426589]]\n",
      "iteration: 10  loss: [[892135.3273319]]\n",
      "iteration: 11  loss: [[7555461.83619064]]\n",
      "iteration: 12  loss: [[1182747.927665]]\n",
      "iteration: 13  loss: [[6845006.77940636]]\n",
      "iteration: 14  loss: [[1461389.77946286]]\n",
      "iteration: 15  loss: [[6270654.97160418]]\n",
      "iteration: 16  loss: [[1720726.15229959]]\n",
      "iteration: 17  loss: [[5803836.28988932]]\n",
      "iteration: 18  loss: [[1957131.48175634]]\n",
      "iteration: 19  loss: [[5422540.46596339]]\n",
      "iteration: 20  loss: [[2169391.58587809]]\n",
      "iteration: 21  loss: [[5109695.22317931]]\n",
      "iteration: 22  loss: [[2357810.62356294]]\n",
      "iteration: 23  loss: [[4851967.15361479]]\n",
      "iteration: 24  loss: [[2523602.6539167]]\n",
      "iteration: 25  loss: [[4638871.35021789]]\n",
      "iteration: 26  loss: [[2668482.47500414]]\n",
      "iteration: 27  loss: [[4462107.17215676]]\n",
      "iteration: 28  loss: [[2794395.27094419]]\n",
      "iteration: 29  loss: [[4315060.15431628]]\n",
      "iteration: 30  loss: [[2903342.31379664]]\n",
      "iteration: 31  loss: [[4192426.42039072]]\n",
      "iteration: 32  loss: [[2997272.58306908]]\n",
      "iteration: 33  loss: [[4089927.78145343]]\n",
      "iteration: 34  loss: [[3078019.13636531]]\n",
      "iteration: 35  loss: [[4004094.2624805]]\n",
      "iteration: 36  loss: [[3147265.43186038]]\n",
      "iteration: 37  loss: [[3932097.00742913]]\n",
      "iteration: 38  loss: [[3206531.31286167]]\n",
      "iteration: 39  loss: [[3871619.02349108]]\n",
      "iteration: 40  loss: [[3257171.55035605]]\n",
      "iteration: 41  loss: [[3820754.50816491]]\n",
      "iteration: 42  loss: [[3300382.08272371]]\n",
      "iteration: 43  loss: [[3777929.89817815]]\n",
      "iteration: 44  loss: [[3337210.66536263]]\n",
      "iteration: 45  loss: [[3741841.53166473]]\n",
      "iteration: 46  loss: [[3368569.74147064]]\n",
      "iteration: 47  loss: [[3711406.10083072]]\n",
      "iteration: 48  loss: [[3395250.10751687]]\n",
      "iteration: 49  loss: [[3685721.01904024]]\n",
      "iteration: 50  loss: [[3417934.47191905]]\n",
      "iteration: 51  loss: [[3664032.52592329]]\n",
      "iteration: 52  loss: [[3437210.36350687]]\n",
      "iteration: 53  loss: [[3645709.87339942]]\n",
      "iteration: 54  loss: [[3453582.08748357]]\n",
      "iteration: 55  loss: [[3630224.32273243]]\n",
      "iteration: 56  loss: [[3467481.58623569]]\n",
      "iteration: 57  loss: [[3617131.97294835]]\n",
      "iteration: 58  loss: [[3479278.16554613]]\n",
      "iteration: 59  loss: [[3606059.65966707]]\n",
      "iteration: 60  loss: [[3489287.11120856]]\n",
      "iteration: 61  loss: [[3596693.32920997]]\n",
      "iteration: 62  loss: [[3497777.25913829]]\n",
      "iteration: 63  loss: [[3588768.41933598]]\n",
      "iteration: 64  loss: [[3504977.60251145]]\n",
      "iteration: 65  loss: [[3582061.87508514]]\n",
      "iteration: 66  loss: [[3511083.02828169]]\n",
      "iteration: 67  loss: [[3576385.50329168]]\n",
      "iteration: 68  loss: [[3516259.27679799]]\n",
      "iteration: 69  loss: [[3571580.42776884]]\n",
      "iteration: 70  loss: [[3520647.2150368]]\n",
      "iteration: 71  loss: [[3567512.45296897]]\n",
      "iteration: 72  loss: [[3524366.50810229]]\n",
      "iteration: 73  loss: [[3564068.18006251]]\n",
      "iteration: 74  loss: [[3527518.76643313]]\n",
      "iteration: 75  loss: [[3561151.74808575]]\n",
      "iteration: 76  loss: [[3530190.23842416]]\n",
      "iteration: 77  loss: [[3558682.09575656]]\n",
      "iteration: 78  loss: [[3532454.11046343]]\n",
      "iteration: 79  loss: [[3556590.65801458]]\n",
      "iteration: 80  loss: [[3534372.4690226]]\n",
      "iteration: 81  loss: [[3554819.42627335]]\n",
      "iteration: 82  loss: [[3535997.97260488]]\n",
      "iteration: 83  loss: [[3553319.313514]]\n",
      "iteration: 84  loss: [[3537375.27513573]]\n",
      "iteration: 85  loss: [[3552048.77527273]]\n",
      "iteration: 86  loss: [[3538542.23680686]]\n",
      "iteration: 87  loss: [[3550972.64571948]]\n",
      "iteration: 88  loss: [[3539530.95343987]]\n",
      "iteration: 89  loss: [[3550061.15473832]]\n",
      "iteration: 90  loss: [[3540368.63108949]]\n",
      "iteration: 91  loss: [[3549289.09747236]]\n",
      "iteration: 92  loss: [[3541078.32881056]]\n",
      "iteration: 93  loss: [[3548635.1324034]]\n",
      "iteration: 94  loss: [[3541679.58921582]]\n",
      "iteration: 95  loss: [[3548081.18787056]]\n",
      "iteration: 96  loss: [[3542188.97360012]]\n",
      "iteration: 97  loss: [[3547611.96012999]]\n",
      "iteration: 98  loss: [[3542620.51594857]]\n",
      "iteration: 99  loss: [[3547214.48873176]]\n",
      "iteration: 100  loss: [[3542986.10803447]]\n",
      "converged. loss: [[3546877.79722926]]\n"
     ]
    }
   ],
   "source": [
    "result=learner(10**(-10),5)"
   ]
  },
  {
   "cell_type": "code",
   "execution_count": 35,
   "metadata": {},
   "outputs": [
    {
     "name": "stdout",
     "output_type": "stream",
     "text": [
      "[[18.48805015]\n",
      " [18.77185618]]\n"
     ]
    },
    {
     "data": {
      "image/png": "[encoded data removed]",
      "text/plain": [
       "<Figure size 432x288 with 1 Axes>"
      ]
     },
     "metadata": {
      "needs_background": "light"
     },
     "output_type": "display_data"
    }
   ],
   "source": [
    "pred=[]\n",
    "for i in range(0,size):\n",
    "    pred.append(np.dot(result.transpose(),np.append(1,x[i]).reshape(features+1,1)))\n",
    "print(result)\n",
    "plt.plot(x,np.reshape(pred,(-1,1)))\n",
    "plt.plot(x,y,'ro')\n",
    "plt.show()"
   ]
  },
  {
   "cell_type": "code",
   "execution_count": null,
   "metadata": {},
   "outputs": [],
   "source": []
  }
 ],
 "metadata": {
  "kernelspec": {
   "display_name": "Python 3",
   "language": "python",
   "name": "python3"
  },
  "language_info": {
   "codemirror_mode": {
    "name": "ipython",
    "version": 3
   },
   "file_extension": ".py",
   "mimetype": "text/x-python",
   "name": "python",
   "nbconvert_exporter": "python",
   "pygments_lexer": "ipython3",
   "version": "3.7.4"
  }
 },
 "nbformat": 4,
 "nbformat_minor": 2
}
