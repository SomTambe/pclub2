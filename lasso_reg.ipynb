{
 "cells": [
  {
   "cell_type": "code",
   "execution_count": 1,
   "metadata": {},
   "outputs": [],
   "source": [
    "import numpy as np\n",
    "import matplotlib.pyplot as plt\n",
    "import pandas as pd"
   ]
  },
  {
   "cell_type": "code",
   "execution_count": 2,
   "metadata": {},
   "outputs": [
    {
     "data": {
      "image/png": "[encoded data removed]",
      "text/plain": [
       "<Figure size 432x288 with 1 Axes>"
      ]
     },
     "metadata": {
      "needs_background": "light"
     },
     "output_type": "display_data"
    },
    {
     "name": "stdout",
     "output_type": "stream",
     "text": [
      "[[1.  ]\n",
      " [1.25]]\n"
     ]
    }
   ],
   "source": [
    "x=np.arange(0,25,0.25)\n",
    "y=[]\n",
    "for i in x:\n",
    "    y.append(34*i+63+np.random.randint(0,20))\n",
    "x=np.reshape(x,(100,1))\n",
    "y=np.reshape(y,(100,1))\n",
    "plt.plot(x,y,'ro')\n",
    "plt.show()\n",
    "print((np.append(1,x[5]).reshape(2,1)))"
   ]
  },
  {
   "cell_type": "code",
   "execution_count": 3,
   "metadata": {},
   "outputs": [
    {
     "name": "stdout",
     "output_type": "stream",
     "text": [
      "100   1\n"
     ]
    }
   ],
   "source": [
    "size=np.size(x) # size of dataset\n",
    "features=np.size(x[1])\n",
    "print(size,' ',features)"
   ]
  },
  {
   "cell_type": "code",
   "execution_count": 69,
   "metadata": {},
   "outputs": [],
   "source": [
    "def learner(lamda, err):\n",
    "    converged=False\n",
    "    i=0\n",
    "    theta=np.random.randn(features+1,1)\n",
    "    h=lambda x: np.dot(theta.transpose(),x)\n",
    "    while not converged:\n",
    "        # we use lasso regression here\n",
    "        loss=0\n",
    "        suma=0\n",
    "        for n in range(0,size):\n",
    "            loss+=(h(np.append(1,x[n]).reshape(features+1,1))-y[n])**2/2\n",
    "        for n in range(0,features+1):\n",
    "            suma+=abs(theta[n])\n",
    "        loss=loss+lamda*suma\n",
    "        s=lambda rho,z: (rho-abs(lamda)) if rho>abs(lamda) else 0\n",
    "        if i<size and loss>err:\n",
    "            for j in range(0,features+1):\n",
    "                rho=0\n",
    "                z=0\n",
    "                for k in range(0,size):\n",
    "                    xtemp=np.append(1,x[k])\n",
    "                    # print(xtemp)\n",
    "                    rho+=-xtemp[j]*(h(xtemp.reshape(features+1,1))-y[k]-theta[j]*xtemp[j])\n",
    "                    # print(k,j)\n",
    "                    z+=xtemp[j]**2\n",
    "                theta[j]=s(rho,z)/z\n",
    "            print('iteration:',i+1,' loss:',loss)\n",
    "            i+=1\n",
    "        else:\n",
    "            converged=True\n",
    "            print('converged. loss:',loss)\n",
    "    return theta"
   ]
  },
  {
   "cell_type": "code",
   "execution_count": 84,
   "metadata": {},
   "outputs": [
    {
     "name": "stdout",
     "output_type": "stream",
     "text": [
      "iteration: 1  loss: [[13668684.67926105]]\n",
      "iteration: 2  loss: [[2027997.71193181]]\n",
      "iteration: 3  loss: [[1134752.3340115]]\n",
      "iteration: 4  loss: [[637338.87512806]]\n",
      "iteration: 5  loss: [[360348.74991248]]\n",
      "iteration: 6  loss: [[206103.76900833]]\n",
      "iteration: 7  loss: [[120210.7642826]]\n",
      "iteration: 8  loss: [[72380.30511584]]\n",
      "iteration: 9  loss: [[45745.39076619]]\n",
      "iteration: 10  loss: [[30913.44738176]]\n",
      "iteration: 11  loss: [[22654.11747849]]\n",
      "iteration: 12  loss: [[18054.8192825]]\n",
      "iteration: 13  loss: [[15493.64977561]]\n",
      "iteration: 14  loss: [[14067.43452199]]\n",
      "iteration: 15  loss: [[13273.23095828]]\n",
      "iteration: 16  loss: [[12830.97001695]]\n",
      "iteration: 17  loss: [[12584.69217438]]\n",
      "iteration: 18  loss: [[12447.54966399]]\n",
      "iteration: 19  loss: [[12371.18035704]]\n",
      "iteration: 20  loss: [[12328.65327314]]\n",
      "iteration: 21  loss: [[12304.97160132]]\n",
      "iteration: 22  loss: [[12291.78420334]]\n",
      "iteration: 23  loss: [[12284.44065653]]\n",
      "iteration: 24  loss: [[12280.35132217]]\n",
      "iteration: 25  loss: [[12278.0741316]]\n",
      "iteration: 26  loss: [[12276.80605313]]\n",
      "iteration: 27  loss: [[12276.09990976]]\n",
      "iteration: 28  loss: [[12275.7066861]]\n",
      "iteration: 29  loss: [[12275.48771521]]\n",
      "iteration: 30  loss: [[12275.36577887]]\n",
      "iteration: 31  loss: [[12275.29787728]]\n",
      "iteration: 32  loss: [[12275.26006554]]\n",
      "iteration: 33  loss: [[12275.23900966]]\n",
      "iteration: 34  loss: [[12275.22728447]]\n",
      "iteration: 35  loss: [[12275.22075516]]\n",
      "iteration: 36  loss: [[12275.21711925]]\n",
      "iteration: 37  loss: [[12275.21509455]]\n",
      "iteration: 38  loss: [[12275.21396707]]\n",
      "iteration: 39  loss: [[12275.21333923]]\n",
      "iteration: 40  loss: [[12275.2129896]]\n",
      "iteration: 41  loss: [[12275.21279491]]\n",
      "iteration: 42  loss: [[12275.21268649]]\n",
      "iteration: 43  loss: [[12275.21262612]]\n",
      "iteration: 44  loss: [[12275.2125925]]\n",
      "iteration: 45  loss: [[12275.21257378]]\n",
      "iteration: 46  loss: [[12275.21256336]]\n",
      "iteration: 47  loss: [[12275.21255755]]\n",
      "iteration: 48  loss: [[12275.21255432]]\n",
      "iteration: 49  loss: [[12275.21255252]]\n",
      "iteration: 50  loss: [[12275.21255151]]\n",
      "iteration: 51  loss: [[12275.21255096]]\n",
      "iteration: 52  loss: [[12275.21255065]]\n",
      "iteration: 53  loss: [[12275.21255047]]\n",
      "iteration: 54  loss: [[12275.21255038]]\n",
      "iteration: 55  loss: [[12275.21255032]]\n",
      "iteration: 56  loss: [[12275.21255029]]\n",
      "iteration: 57  loss: [[12275.21255028]]\n",
      "iteration: 58  loss: [[12275.21255027]]\n",
      "iteration: 59  loss: [[12275.21255026]]\n",
      "iteration: 60  loss: [[12275.21255026]]\n",
      "iteration: 61  loss: [[12275.21255026]]\n",
      "iteration: 62  loss: [[12275.21255026]]\n",
      "iteration: 63  loss: [[12275.21255026]]\n",
      "iteration: 64  loss: [[12275.21255026]]\n",
      "iteration: 65  loss: [[12275.21255026]]\n",
      "iteration: 66  loss: [[12275.21255026]]\n",
      "iteration: 67  loss: [[12275.21255026]]\n",
      "iteration: 68  loss: [[12275.21255026]]\n",
      "iteration: 69  loss: [[12275.21255026]]\n",
      "iteration: 70  loss: [[12275.21255026]]\n",
      "iteration: 71  loss: [[12275.21255026]]\n",
      "iteration: 72  loss: [[12275.21255026]]\n",
      "iteration: 73  loss: [[12275.21255026]]\n",
      "iteration: 74  loss: [[12275.21255026]]\n",
      "iteration: 75  loss: [[12275.21255026]]\n",
      "iteration: 76  loss: [[12275.21255026]]\n",
      "iteration: 77  loss: [[12275.21255026]]\n",
      "iteration: 78  loss: [[12275.21255026]]\n",
      "iteration: 79  loss: [[12275.21255026]]\n",
      "iteration: 80  loss: [[12275.21255026]]\n",
      "iteration: 81  loss: [[12275.21255026]]\n",
      "iteration: 82  loss: [[12275.21255026]]\n",
      "iteration: 83  loss: [[12275.21255026]]\n",
      "iteration: 84  loss: [[12275.21255026]]\n",
      "iteration: 85  loss: [[12275.21255026]]\n",
      "iteration: 86  loss: [[12275.21255026]]\n",
      "iteration: 87  loss: [[12275.21255026]]\n",
      "iteration: 88  loss: [[12275.21255026]]\n",
      "iteration: 89  loss: [[12275.21255026]]\n",
      "iteration: 90  loss: [[12275.21255026]]\n",
      "iteration: 91  loss: [[12275.21255026]]\n",
      "iteration: 92  loss: [[12275.21255026]]\n",
      "iteration: 93  loss: [[12275.21255026]]\n",
      "iteration: 94  loss: [[12275.21255026]]\n",
      "iteration: 95  loss: [[12275.21255026]]\n",
      "iteration: 96  loss: [[12275.21255026]]\n",
      "iteration: 97  loss: [[12275.21255026]]\n",
      "iteration: 98  loss: [[12275.21255026]]\n",
      "iteration: 99  loss: [[12275.21255026]]\n",
      "iteration: 100  loss: [[12275.21255026]]\n",
      "converged. loss: [[12275.21255026]]\n"
     ]
    }
   ],
   "source": [
    "result=learner(10**(2),5)"
   ]
  },
  {
   "cell_type": "code",
   "execution_count": 85,
   "metadata": {},
   "outputs": [
    {
     "name": "stdout",
     "output_type": "stream",
     "text": [
      "[[68.55306931]\n",
      " [34.18076208]]\n"
     ]
    },
    {
     "data": {
      "image/png": "[encoded data removed]",
      "text/plain": [
       "<Figure size 432x288 with 1 Axes>"
      ]
     },
     "metadata": {
      "needs_background": "light"
     },
     "output_type": "display_data"
    }
   ],
   "source": [
    "pred=[]\n",
    "for i in range(0,size):\n",
    "    pred.append(np.dot(result.transpose(),np.append(1,x[i]).reshape(features+1,1)))\n",
    "print(result)\n",
    "plt.plot(x,np.reshape(pred,(-1,1)))\n",
    "plt.plot(x,y,'ro')\n",
    "plt.show()"
   ]
  },
  {
   "cell_type": "code",
   "execution_count": null,
   "metadata": {},
   "outputs": [],
   "source": []
  }
 ],
 "metadata": {
  "kernelspec": {
   "display_name": "Python 3",
   "language": "python",
   "name": "python3"
  },
  "language_info": {
   "codemirror_mode": {
    "name": "ipython",
    "version": 3
   },
   "file_extension": ".py",
   "mimetype": "text/x-python",
   "name": "python",
   "nbconvert_exporter": "python",
   "pygments_lexer": "ipython3",
   "version": "3.7.4"
  }
 },
 "nbformat": 4,
 "nbformat_minor": 2
}
