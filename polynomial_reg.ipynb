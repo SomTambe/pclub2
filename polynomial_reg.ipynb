{
 "cells": [
  {
   "cell_type": "code",
   "execution_count": 61,
   "metadata": {},
   "outputs": [],
   "source": [
    "import numpy as np\n",
    "import matplotlib.pyplot as plt\n",
    "import pandas as pd"
   ]
  },
  {
   "cell_type": "code",
   "execution_count": 80,
   "metadata": {},
   "outputs": [
    {
     "data": {
      "text/plain": [
       "[<matplotlib.lines.Line2D at 0x118437b10>]"
      ]
     },
     "execution_count": 80,
     "metadata": {},
     "output_type": "execute_result"
    },
    {
     "data": {
      "image/png": "[encoded data removed]",
      "text/plain": [
       "<Figure size 432x288 with 1 Axes>"
      ]
     },
     "metadata": {
      "needs_background": "light"
     },
     "output_type": "display_data"
    }
   ],
   "source": [
    "# tr=pd.read_csv(\"lin_reg_data.csv\",delim_whitespace=True) # importing dataset on housing prices\n",
    "# x=tr[\"Brain_Weight\"].as_matrix()\n",
    "# y=tr[\"Body_Weight\"].as_matrix()\n",
    "x=np.arange(0,25,0.25) # 100 input points\n",
    "y=[]\n",
    "for i in x:\n",
    "    y.append(i**2+2*i+8+np.random.randint(low=0,high=20)) # quadratic plus some random noise\n",
    "x=np.reshape(x,(100,1))\n",
    "y=np.reshape(y,(100,1))\n",
    "plt.plot(x,y,'ro')"
   ]
  },
  {
   "cell_type": "code",
   "execution_count": 81,
   "metadata": {},
   "outputs": [],
   "source": [
    "size=np.size(x) # please define size of dataset here\n",
    "def xvec(p,degree):\n",
    "    xv=[]\n",
    "    for i in range(0,degree+1):\n",
    "        xv.append(x[p]**(i))\n",
    "    xv=np.array(xv)\n",
    "    return np.reshape(xv,(degree+1,1))\n",
    "# print(np.dot(np.random.randn(1,2),xvec(2,1)))"
   ]
  },
  {
   "cell_type": "code",
   "execution_count": 93,
   "metadata": {},
   "outputs": [],
   "source": [
    "def learner(lr, degree, err): # epochs is really unnecessary\n",
    "    converged=False\n",
    "    theta=np.random.randn(degree+1)\n",
    "    theta=np.reshape(theta,(1,degree+1))\n",
    "    i=0\n",
    "    while not converged:\n",
    "        # print(xvec(5,degree))\n",
    "        h=lambda k:np.dot(theta,xvec(k,degree)) # defining hypothesis\n",
    "        # print(np.reshape(xvec,(2,1)))\n",
    "        # Using standard gradient descent\n",
    "        loss=0 # this is not pure loss, it is (h(x)-y)\n",
    "        # print(\"theta=\",theta, 'size=',np.size(h(5)))\n",
    "        for j in range(0,size):\n",
    "            loss+=(h(j)-y[j])\n",
    "        # print('loss size=',np.size(loss))\n",
    "        # we will use mean-squared loss here for gradient descent\n",
    "        if abs(loss[0])>err and i<size:\n",
    "            theta = theta-lr*xvec(i,degree).transpose()*loss[0]\n",
    "            print(\"iteration:\",i+1,\" loss:\",loss[0]**2/2)\n",
    "            i+=1\n",
    "        else:\n",
    "            print(\"converged,loss=\",loss[0])\n",
    "            # print(np.shape(loss))\n",
    "            converged = True\n",
    "    return [theta,degree]"
   ]
  },
  {
   "cell_type": "code",
   "execution_count": 95,
   "metadata": {},
   "outputs": [
    {
     "name": "stdout",
     "output_type": "stream",
     "text": [
      "iteration: 1  loss: [1.07842157e+08]\n",
      "iteration: 2  loss: [1.0782059e+08]\n",
      "iteration: 3  loss: [1.07456036e+08]\n",
      "iteration: 4  loss: [1.06202644e+08]\n",
      "iteration: 5  loss: [1.03549138e+08]\n",
      "iteration: 6  loss: [99071578.25258902]\n",
      "iteration: 7  loss: [92504312.5680694]\n",
      "iteration: 8  loss: [83814050.84476292]\n",
      "iteration: 9  loss: [73254493.02311997]\n",
      "iteration: 10  loss: [61375745.07167957]\n",
      "iteration: 11  loss: [48968543.57722169]\n",
      "iteration: 12  loss: [36940380.7662942]\n",
      "iteration: 13  loss: [26145885.02935689]\n",
      "iteration: 14  loss: [17217510.67293979]\n",
      "iteration: 15  loss: [10451398.49141206]\n",
      "iteration: 16  loss: [5787959.33219845]\n",
      "iteration: 17  loss: [2890409.69105297]\n",
      "iteration: 18  loss: [1284369.61689727]\n",
      "iteration: 19  loss: [500045.41467756]\n",
      "iteration: 20  loss: [167498.68027701]\n",
      "iteration: 21  loss: [47227.57424767]\n",
      "iteration: 22  loss: [10911.4324511]\n",
      "iteration: 23  loss: [1996.64233084]\n",
      "iteration: 24  loss: [276.75963603]\n",
      "iteration: 25  loss: [27.3360598]\n",
      "converged,loss= [-1.87578053]\n",
      "[array([[-0.70603022,  1.81856235,  1.10078301]]), 2]\n",
      "(100, 1, 1)\n"
     ]
    }
   ],
   "source": [
    "result=learner(10**(-6),2,5) # (2*10**(-8),1,10),(3*10**(-15),2,300000)\n",
    "print(result)\n",
    "pred=[]\n",
    "for i in range(0,size):\n",
    "    pred.append(np.dot(result[0],xvec(i,result[1])))\n",
    "print(np.shape(pred))\n",
    "# print(pred)"
   ]
  },
  {
   "cell_type": "code",
   "execution_count": 96,
   "metadata": {},
   "outputs": [
    {
     "data": {
      "image/png": "[encoded data removed]",
      "text/plain": [
       "<Figure size 432x288 with 1 Axes>"
      ]
     },
     "metadata": {
      "needs_background": "light"
     },
     "output_type": "display_data"
    }
   ],
   "source": [
    "plt.plot(x,y,'ro') # discrete data points plot\n",
    "plt.plot(x,np.reshape(pred,(size,1)))# fits predicted graph in form of blue line\n",
    "plt.show()"
   ]
  },
  {
   "cell_type": "code",
   "execution_count": null,
   "metadata": {},
   "outputs": [],
   "source": []
  },
  {
   "cell_type": "code",
   "execution_count": null,
   "metadata": {},
   "outputs": [],
   "source": []
  }
 ],
 "metadata": {
  "kernelspec": {
   "display_name": "Python 3",
   "language": "python",
   "name": "python3"
  },
  "language_info": {
   "codemirror_mode": {
    "name": "ipython",
    "version": 3
   },
   "file_extension": ".py",
   "mimetype": "text/x-python",
   "name": "python",
   "nbconvert_exporter": "python",
   "pygments_lexer": "ipython3",
   "version": "3.7.4"
  }
 },
 "nbformat": 4,
 "nbformat_minor": 2
}
